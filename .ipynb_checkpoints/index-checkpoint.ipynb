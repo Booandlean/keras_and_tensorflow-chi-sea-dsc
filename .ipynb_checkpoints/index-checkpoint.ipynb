{
 "cells": [
  {
   "cell_type": "markdown",
   "metadata": {},
   "source": [
    "# Tensorflow and Keras"
   ]
  },
  {
   "cell_type": "markdown",
   "metadata": {
    "colab_type": "text",
    "id": "T8EQBfbRRV7w"
   },
   "source": [
    "## Modeling\n",
    "\n",
    "Let's review some modeling concepts we've used to date with [this quick exercise](https://forms.gle/yrPxUp2Xj4R9FeyEA)\n"
   ]
  },
  {
   "cell_type": "markdown",
   "metadata": {
    "colab_type": "text",
    "id": "Hko6Q989RV7w"
   },
   "source": [
    "We do this to remind ourselves that the basic components of good modeling practice, and even the methods themselves, are _the same_ with Neural Nets as that are with _sklearn_ or _statsmodels_.\n",
    "\n",
    "The above exercise uses only one train-test split, but is still useful.  We will be using train, validation, test in this notebook, for good practice."
   ]
  },
  {
   "cell_type": "markdown",
   "metadata": {
    "colab_type": "text",
    "id": "Xv_Ypg88RV7x"
   },
   "source": [
    "## Objectives:\n",
    "- Compare pros and cons of Keras vs TensorFlow\n",
    "- hands on practice coding a neural network"
   ]
  },
  {
   "cell_type": "code",
   "execution_count": null,
   "metadata": {},
   "outputs": [],
   "source": [
    "import keras"
   ]
  },
  {
   "cell_type": "markdown",
   "metadata": {},
   "source": [
    "Wait a second, what is that warning? \n",
    "`Using TensorFlow backend.`"
   ]
  },
  {
   "cell_type": "markdown",
   "metadata": {},
   "source": [
    "<img align =left src=\"img/keras.png\"><br>\n",
    "### Keras is an API\n",
    "\n",
    "Coded in Python, that can be layered on top of many different back-end processing systems.\n",
    "\n",
    "![kerasback](img/keras_tf_theano.png)\n",
    "\n",
    "While each of these systems has their own coding methods, Keras abstracts from that in streamlined pythonic manner we are used to seeing in other python modeling libraries.\n",
    "\n",
    "Keras development is backed primarily by Google, and the Keras API comes packaged in TensorFlow as tf.keras. Additionally, Microsoft maintains the CNTK Keras backend. Amazon AWS is maintaining the Keras fork with MXNet support. Other contributing companies include NVIDIA, Uber, and Apple (with CoreML).\n",
    "\n",
    "Theano has been discontinued.  The last release was 2017, but can still be used.\n",
    "\n",
    "We will use TensorFlow, as it is the most popular. TensorFlow became the most used Keras backend, and  eventually integrated Keras into via the tf.keras submodule of TensorFlow.  "
   ]
  },
  {
   "cell_type": "markdown",
   "metadata": {
    "colab_type": "text",
    "id": "EdZDyJfARV8l"
   },
   "source": [
    "## Wait, what's TensorFlow?\n"
   ]
  },
  {
   "cell_type": "markdown",
   "metadata": {
    "colab_type": "text",
    "id": "mFZYNoYRRV8l"
   },
   "source": [
    "## Let's start with tensors"
   ]
  },
  {
   "cell_type": "markdown",
   "metadata": {
    "colab_type": "text",
    "id": "mIZD7WFvRV8m"
   },
   "source": [
    "## Tensors are multidimensional matricies\n",
    "\n",
    "![tensor](img/tensors.png)"
   ]
  },
  {
   "cell_type": "markdown",
   "metadata": {
    "colab_type": "text",
    "id": "OUblayDlRV8n"
   },
   "source": [
    "### TensorFlow manages the flow of matrix math\n",
    "\n",
    "That makes neural network processing possible.\n",
    "\n",
    "![cat](img/cat-tensors.gif)"
   ]
  },
  {
   "cell_type": "markdown",
   "metadata": {},
   "source": [
    "For our numbers dataset, our tensors from the sklearn dataset were originally tensors of the shape 8x8, i.e.64 pictures.  Remember, that was with black and white images.\n",
    "\n",
    "For image processing, we are often dealing with color."
   ]
  },
  {
   "cell_type": "code",
   "execution_count": null,
   "metadata": {},
   "outputs": [],
   "source": [
    "from sklearn.datasets import load_sample_images\n",
    "image = load_sample_images()['images'][0]"
   ]
  },
  {
   "cell_type": "code",
   "execution_count": null,
   "metadata": {},
   "outputs": [],
   "source": [
    "import matplotlib.pyplot as plt\n",
    "import matplotlib.image as mpimg\n",
    "\n",
    "imgplot = plt.imshow(image)"
   ]
  },
  {
   "cell_type": "code",
   "execution_count": null,
   "metadata": {},
   "outputs": [],
   "source": [
    "image.shape"
   ]
  },
  {
   "cell_type": "markdown",
   "metadata": {},
   "source": [
    "What do the dimensions of our image above represent?"
   ]
  },
  {
   "cell_type": "code",
   "execution_count": null,
   "metadata": {},
   "outputs": [],
   "source": [
    "import numpy as np\n",
    "from matplotlib import pyplot as plt\n",
    "\n",
    "mccalister = ['Adam', 'Amanda','Chum', 'Dann',\n",
    " 'Jacob', 'Jason', 'Johnhoy', 'Karim',\n",
    "'Leana','Luluva', 'Matt', 'Maximilian','Syd' ]\n",
    "\n",
    "# This is always a good idea\n",
    "%load_ext autoreload\n",
    "%autoreload 2\n",
    "\n",
    "import os\n",
    "import sys\n",
    "module_path = os.path.abspath(os.path.join(os.pardir, os.pardir))\n",
    "if module_path not in sys.path:\n",
    "    sys.path.append(module_path)\n",
    "    \n",
    "from src.student_caller import one_random_student\n",
    "\n",
    "import warnings\n",
    "warnings.filterwarnings('ignore')"
   ]
  },
  {
   "cell_type": "code",
   "execution_count": null,
   "metadata": {},
   "outputs": [],
   "source": [
    "one_random_student(mccalister)"
   ]
  },
  {
   "cell_type": "markdown",
   "metadata": {},
   "source": [
    "Tensors with higher numbers of dimensions have a higher **rank**, in the language of TensorFlow."
   ]
  },
  {
   "cell_type": "markdown",
   "metadata": {},
   "source": [
    "A matrix with rows and columns only, like the black and white numbers, are **rank 2**.\n",
    "\n",
    "A matrix with a third dimension, like the color pictures above, are **rank 3**.\n",
    "\n",
    "When we flatten an image by stacking the rows in a column, we are decreasing the rank. "
   ]
  },
  {
   "cell_type": "code",
   "execution_count": null,
   "metadata": {},
   "outputs": [],
   "source": [
    "flat_image = image.reshape(-1,1)"
   ]
  },
  {
   "cell_type": "markdown",
   "metadata": {},
   "source": [
    "When we unrow a column, we increase its rank."
   ]
  },
  {
   "cell_type": "code",
   "execution_count": null,
   "metadata": {},
   "outputs": [],
   "source": [
    "unrowed = flat_image.reshape(427,640, -1)"
   ]
  },
  {
   "cell_type": "code",
   "execution_count": null,
   "metadata": {},
   "outputs": [],
   "source": [
    "imgplot = plt.imshow(unrowed)"
   ]
  },
  {
   "cell_type": "markdown",
   "metadata": {},
   "source": [
    "\n",
    "## TensorFLow has more levers and buttons, but Keras is more user friendly\n",
    "\n",
    "Coding directly in **Tensorflow** allows you to tweak more parameters to optimize performance. The **Keras** wrapper makes the code more accessible for developers prototyping models.\n",
    "\n",
    "![levers](img/levers.jpeg)"
   ]
  },
  {
   "cell_type": "markdown",
   "metadata": {
    "colab_type": "text",
    "id": "nTxfhoqMRV8o"
   },
   "source": [
    "### Keras, an API with an intentional UX\n",
    "\n",
    "- Deliberately design end-to-end user workflows\n",
    "- Reduce cognitive load for your users\n",
    "- Provide helpful feedback to your users\n",
    "\n",
    "[full article here](https://blog.keras.io/user-experience-design-for-apis.html)<br>\n",
    "[full list of why to use Keras](https://keras.io/why-use-keras/)"
   ]
  },
  {
   "cell_type": "markdown",
   "metadata": {
    "colab_type": "text",
    "id": "qTNbwNeRRV8p"
   },
   "source": [
    "### A few comparisons\n",
    "\n",
    "While you **can leverage both**, here are a few comparisons.\n",
    "\n",
    "| Comparison | Keras | Tensorflow|\n",
    "|------------|-------|-----------|\n",
    "| **Level of API** | high-level API | High and low-level APIs |\n",
    "| **Speed** |  can *seem* slower |  is a bit faster |\n",
    "| **Language architecture** | simple architecture, more readable and concise | straight tensorflow is a bit more complex |\n",
    "| **Debugging** | less frequent need to debug | difficult to debug |\n",
    "| **Datasets** | usually used for small datasets | high performance models and large datasets that require fast execution|\n",
    "\n",
    "This is also a _**non-issue**_ - as you can leverage tensorflow commands within keras and vice versa. If Keras ever seems slower, it's because the developer's time is more expensive than the GPUs. Keras is designed with the developer in mind. \n",
    "\n",
    "\n",
    "[reference link](https://www.edureka.co/blog/keras-vs-tensorflow-vs-pytorch/)"
   ]
  },
  {
   "cell_type": "markdown",
   "metadata": {
    "colab_type": "text",
    "id": "TwkD4T2eRV7y"
   },
   "source": [
    "### Pair Challenge:\n",
    "\n",
    "<img src=\"https://images.pexels.com/photos/1350560/pexels-photo-1350560.jpeg?auto=compress&cs=tinysrgb&dpr=2&h=750&w=1260\" alt=\"diabetes\" style =\"text-align:center;width:250px;float:none\" ></br>"
   ]
  },
  {
   "cell_type": "markdown",
   "metadata": {},
   "source": [
    "Let's use a Keras neural net on the UCI digit dataset we imported from sklearn yesterday."
   ]
  },
  {
   "cell_type": "markdown",
   "metadata": {},
   "source": [
    "Let's continue where we left off with our numbers dataset."
   ]
  },
  {
   "cell_type": "code",
   "execution_count": null,
   "metadata": {},
   "outputs": [],
   "source": [
    "from sklearn.datasets import load_digits\n",
    "from sklearn.model_selection import train_test_split\n",
    "digits = load_digits()\n",
    "X = digits.data\n",
    "y = digits.target\n"
   ]
  },
  {
   "cell_type": "markdown",
   "metadata": {},
   "source": [
    "We will start with a binary classification, and predict whether the number will be even or odd."
   ]
  },
  {
   "cell_type": "code",
   "execution_count": null,
   "metadata": {},
   "outputs": [],
   "source": [
    "y_binary = y % 2\n",
    "y_binary"
   ]
  },
  {
   "cell_type": "markdown",
   "metadata": {},
   "source": [
    "In pairs, proceed through the following three parts. "
   ]
  },
  {
   "cell_type": "markdown",
   "metadata": {},
   "source": [
    "#### Part 1:\n",
    "Questions to answer:\n",
    "- How many input variables are there in this dataset? \n",
    "- What does the range of values (0-16) represent in our feature set?\n",
    "- What does a 1 mean in our target class?\n",
    "- If we use a neural net to predict this, what loss function do we use?\n",
    "***"
   ]
  },
  {
   "cell_type": "markdown",
   "metadata": {},
   "source": [
    "***\n",
    "#### Part 2:\n",
    "What if you wanted to create a NN with hidden layers to predict even numbers with:\n",
    "- 12 nodes in the first hidden layer\n",
    "- 8 nodes in the second hidden layer\n",
    "- relu on the first two activations\n",
    "- sigmoid on the last one\n",
    "\n",
    "Answer the following questions:\n",
    "- How many nodes in the input layer?\n",
    "- How many nodes in the output layer?\n",
    "- Will the output layer produce an integer or a float?\n",
    "***"
   ]
  },
  {
   "cell_type": "markdown",
   "metadata": {},
   "source": [
    "***\n",
    "\n",
    "#### Part 3:\n",
    "Knowing that you want:\n",
    "- batch size of 10\n",
    "- 50 epochs\n",
    "- to use `rmsprop` as your optimizer\n",
    "- and all the numbers you defined above...\n",
    "\n",
    "**Fill out the code below with the correct specifications, but don't run it yet**"
   ]
  },
  {
   "cell_type": "code",
   "execution_count": null,
   "metadata": {},
   "outputs": [],
   "source": [
    "model = Sequential()\n",
    "model.add(Dense(   , activation= , input_dim= ))\n",
    "model.add(Dense( ,  activation= ))\n",
    "model.add(Dense(  , activation =  ))\n",
    "\n",
    "model.compile(optimizer= ,\n",
    "              loss=,\n",
    "              metrics=['accuracy'])\n",
    "model.fit(data, labels, epochs=, batch_size=  )"
   ]
  },
  {
   "cell_type": "code",
   "execution_count": null,
   "metadata": {},
   "outputs": [],
   "source": [
    "#__SOLUTION__\n",
    "\n",
    "model = Sequential()\n",
    "model.add(Dense(12, activation='relu', input_dim=64,))\n",
    "model.add(Dense(8 ,  activation='relu' ))\n",
    "model.add(Dense(1 , activation = 'sigmoid' ))\n",
    "\n",
    "model.compile(optimizer='rmsprop' ,\n",
    "              loss='binary_crossentropy'  ,\n",
    "              metrics=['accuracy'])\n",
    "model.fit(X, y_binary, epochs=50, batch_size= 10 )"
   ]
  },
  {
   "cell_type": "markdown",
   "metadata": {},
   "source": [
    "### Things to know:\n",
    "- the data and labels in `fit()` need to be numpy arrays, not pandas dfs. Else it won't work.\n",
    "- Scaling your data will have a large impact on your model.   \n",
    "   > For our traditional input features, we would use a scalar object.  For images, as long as the minimum value is 0, we can simply divide through by the maximum pixel intensity.\n",
    "\n",
    "![gif](https://media0.giphy.com/media/3og0IMJcSI8p6hYQXS/giphy.gif)"
   ]
  },
  {
   "cell_type": "markdown",
   "metadata": {},
   "source": [
    "\n",
    "We have come across several scenerios where scaling is important. In addition to improving the speed of gradient descent, what other scenarios did we stress scaling?"
   ]
  },
  {
   "cell_type": "code",
   "execution_count": null,
   "metadata": {},
   "outputs": [],
   "source": [
    "one_random_student(mccalister)"
   ]
  },
  {
   "cell_type": "markdown",
   "metadata": {},
   "source": [
    "#### Getting data ready for modeling\n",
    "**Preprocessing**:\n",
    "\n",
    "- use train_test_split to create X_train, y_train, X_test, and y_test\n",
    "- Split training data into train and validation sets.\n",
    "- Scale the pixel intensity to a value between 0 and 1.\n",
    "- Scale the pixel intensity to a value between 0 and 1."
   ]
  },
  {
   "cell_type": "markdown",
   "metadata": {},
   "source": [
    "\n",
    "Scaling our input variables will help speed up our neural network [see 4.3](http://yann.lecun.com/exdb/publis/pdf/lecun-98b.pdf)\n",
    "\n",
    "Since our minimum intensity is 0, we can normalize the inputs by dividing each value by the max value (16). "
   ]
  },
  {
   "cell_type": "code",
   "execution_count": null,
   "metadata": {},
   "outputs": [],
   "source": [
    "\n",
    "from sklearn.model_selection import train_test_split\n",
    "\n",
    "X_train, X_test, y_train, y_test = train_test_split(X, y_binary, random_state=42, test_size=.2)\n",
    "X_t, X_val, y_t, y_val = train_test_split(X_train, y_train, random_state=42, test_size=.2)\n",
    "X_t, X_val, X_test = X_t/16, X_val/16, X_test/16\n"
   ]
  },
  {
   "cell_type": "markdown",
   "metadata": {},
   "source": [
    "Now that our data is ready, let's load in the keras Sequential class.  \n",
    "\n",
    "Sequential refers to a sequence of layers that feed directly into one another with exactly [one input tensor and one output tensor](https://www.tensorflow.org/guide/keras/sequential_model)"
   ]
  },
  {
   "cell_type": "code",
   "execution_count": null,
   "metadata": {},
   "outputs": [],
   "source": [
    "from keras.models import Sequential"
   ]
  },
  {
   "cell_type": "markdown",
   "metadata": {},
   "source": [
    "A dense layer receives input from every node from the previous layer."
   ]
  },
  {
   "cell_type": "code",
   "execution_count": null,
   "metadata": {},
   "outputs": [],
   "source": [
    "from keras.layers import Dense"
   ]
  },
  {
   "cell_type": "markdown",
   "metadata": {},
   "source": [
    "Let's start working through the different choices we can make in our network."
   ]
  },
  {
   "cell_type": "markdown",
   "metadata": {},
   "source": [
    "For activation, let's start with the familiar sigmoid function, and see how it performs."
   ]
  },
  {
   "cell_type": "code",
   "execution_count": null,
   "metadata": {},
   "outputs": [],
   "source": [
    "np.random.seed(42)\n",
    "model = Sequential()\n",
    "# We will start with our trusty sigmoid function.\n",
    "# What does input dimension correspond to?\n",
    "model.add(Dense(12, activation='sigmoid', input_dim=64,))\n",
    "model.add(Dense(8 ,  activation='sigmoid' ))\n",
    "model.add(Dense(1 , activation = 'sigmoid' ))\n",
    "\n",
    "model.compile(optimizer='SGD' ,\n",
    "              # We use binary_crossentropy for a binary loss function\n",
    "              loss='binary_crossentropy'  ,\n",
    "              metrics=['accuracy'])\n",
    "\n",
    "# Assign the variable history to store the results, and set verbose=1 so we can see the output.\n",
    "results = model.fit(X_t, y_t, epochs=10, batch_size=100, verbose=1)"
   ]
  },
  {
   "cell_type": "markdown",
   "metadata": {},
   "source": [
    "We can access the history of our model via `results.history`.\n",
    "Use __dict__ to take a tour."
   ]
  },
  {
   "cell_type": "code",
   "execution_count": null,
   "metadata": {},
   "outputs": [],
   "source": [
    "results.__dict__"
   ]
  },
  {
   "cell_type": "code",
   "execution_count": null,
   "metadata": {},
   "outputs": [],
   "source": [
    "import seaborn as sns\n",
    "import matplotlib.pyplot as plt\n",
    "import numpy as np\n",
    "\n",
    "\n",
    "sigmoid_loss = results.history['loss']\n",
    "sigmoid_accuracy = results.history['acc']\n",
    "\n",
    "fig, (ax1, ax2) = plt.subplots(1,2, figsize=(10,5))\n",
    "sns.lineplot(results.epoch, results.history['loss'], ax=ax1, label='loss')\n",
    "sns.lineplot(results.epoch, results.history['acc'], ax=ax2, label='accuracy')"
   ]
  },
  {
   "cell_type": "markdown",
   "metadata": {},
   "source": [
    "We have two plots above both relating to the quality fo our model.  The left-hand plot is our loss. It uses the probabilities associated with our predictions to judge how well our prediction fits reality. We want it to decrease as far as possible.\n",
    "\n",
    "The accuracy judges how well the predictions are after applying the threshold at the output layer.  We want accuracy to increase."
   ]
  },
  {
   "cell_type": "markdown",
   "metadata": {},
   "source": [
    "If we look at our loss, it is still decreasing. That is a signal that our model is **still learning**. If our model is still learning, we can allow it to get better by turning several dials. First, let's increase the number of epochs."
   ]
  },
  {
   "cell_type": "code",
   "execution_count": null,
   "metadata": {},
   "outputs": [],
   "source": [
    "# Review: what is an epoch?\n",
    "one_random_student(mccalister)"
   ]
  },
  {
   "cell_type": "code",
   "execution_count": null,
   "metadata": {},
   "outputs": [],
   "source": [
    "model = Sequential()\n",
    "model.add(Dense(12, activation='sigmoid', input_dim=64,))\n",
    "model.add(Dense(8 ,  activation='sigmoid' ))\n",
    "model.add(Dense(1 , activation = 'sigmoid' ))\n",
    "\n",
    "model.compile(optimizer='SGD' ,\n",
    "              loss='binary_crossentropy'  ,\n",
    "              metrics=['accuracy'])\n",
    "\n",
    "# Assign the variable history to store the results, and set verbose=1 so we can see the output.\n",
    "results = model.fit(X_t, y_t, epochs=50, batch_size=32, verbose=1)"
   ]
  },
  {
   "cell_type": "code",
   "execution_count": null,
   "metadata": {},
   "outputs": [],
   "source": [
    "sigmoid_loss = results.history['loss']\n",
    "sigmoid_accuracy = results.history['acc']\n",
    "\n",
    "fig, (ax1, ax2) = plt.subplots(1,2, figsize=(10,5))\n",
    "sns.lineplot(results.epoch, sigmoid_loss, ax=ax1, label='loss')\n",
    "sns.lineplot(results.epoch, sigmoid_accuracy, ax=ax2, label='accuracy')"
   ]
  },
  {
   "cell_type": "markdown",
   "metadata": {},
   "source": [
    "It still looks like our model has not **converged**. Convergence is when our model has plateaued after adjusting the parameters to their optimal values. \n",
    "\n",
    "The loss is still decreasing, and the accuracy is still increasing.  We could continue increasing the epochs, but that will be time consuming.  \n",
    "\n",
    "We could try decreasing the batch size. Let's set the batch size to 1.  This is true stochastic gradient descent.  The parameters are updated after each sample is passed into the model.\n",
    "\n",
    "SGD with a small batch size takes longer to run through an epoch, but will take less epochs to improve."
   ]
  },
  {
   "cell_type": "code",
   "execution_count": null,
   "metadata": {},
   "outputs": [],
   "source": [
    "model = Sequential()\n",
    "model.add(Dense(12, activation='sigmoid', input_dim=64,))\n",
    "model.add(Dense(8 ,  activation='sigmoid' ))\n",
    "model.add(Dense(1 , activation = 'sigmoid' ))\n",
    "\n",
    "model.compile(optimizer='SGD' ,\n",
    "              loss='binary_crossentropy'  ,\n",
    "              metrics=['accuracy'])\n",
    "\n",
    "# Assign the variable history to store the results, and set verbose=1 so we can see the output.\n",
    "results = model.fit(X_t, y_t, epochs=10, batch_size=1, verbose=1)"
   ]
  },
  {
   "cell_type": "code",
   "execution_count": null,
   "metadata": {},
   "outputs": [],
   "source": [
    "sigmoid_one_loss = results.history['loss']\n",
    "sigmoid_one_accuracy = results.history['acc']\n",
    "\n",
    "fig, (ax1, ax2) = plt.subplots(1,2, figsize=(10,5))\n",
    "sns.lineplot(results.epoch, sigmoid_one_loss, ax=ax1, label='loss')\n",
    "sns.lineplot(results.epoch, sigmoid_one_accuracy, ax=ax2, label='accuracy')"
   ]
  },
  {
   "cell_type": "markdown",
   "metadata": {},
   "source": [
    "Comparing our 50 epoch version with a 500 batch size and a 10 epoch version with a 1 example batch size, we see that by 10 epochs, the latter has achieved 90% accuracy by the final epoch, while our 23 batch size is just about 70%.  However, with the 1 example batch, each epoch took a lot longer."
   ]
  },
  {
   "cell_type": "markdown",
   "metadata": {},
   "source": [
    "Still, even though the 2nd model reached a higher accuracy and lower loss, it looks like it still has not stopped learning. The slope of the loss is getting smaller, but it has not leveled out completely."
   ]
  },
  {
   "cell_type": "markdown",
   "metadata": {},
   "source": [
    "From yesterday's lesson, you may remember that the vanilla SGD optimizer applies a constant learning rate accross all values.  Let's look at the default value.  \n",
    "\n",
    "If we increase the learning rate, our parameter adjustments will take bigger steps, allowing us to proceed more quickly down the gradient."
   ]
  },
  {
   "cell_type": "code",
   "execution_count": null,
   "metadata": {},
   "outputs": [],
   "source": [
    "from keras.optimizers import SGD\n",
    "\n",
    "model = Sequential()\n",
    "\n",
    "sgd = SGD(lr=.02)\n",
    "model.add(Dense(12, activation='sigmoid', input_dim=64,))\n",
    "model.add(Dense(8 ,  activation='sigmoid' ))\n",
    "model.add(Dense(1 , activation = 'sigmoid' ))\n",
    "\n",
    "model.compile(optimizer=sgd ,\n",
    "              loss='binary_crossentropy'  ,\n",
    "              metrics=['accuracy'])\n",
    "\n",
    "# Assign the variable history to store the results, and set verbose=1 so we can see the output.\n",
    "results = model.fit(X_t, y_t, epochs=10, batch_size=1, verbose=1)"
   ]
  },
  {
   "cell_type": "code",
   "execution_count": null,
   "metadata": {},
   "outputs": [],
   "source": [
    "lr_02_loss = results.history['loss']\n",
    "lr_02_accuracy = results.history['acc']\n",
    "\n",
    "fig, (ax1, ax2) = plt.subplots(1,2, figsize=(10,5))\n",
    "sns.lineplot(results.epoch, lr_02_loss, ax=ax1, label='lr_02_loss')\n",
    "sns.lineplot(results.epoch, lr_02_accuracy, ax=ax2, label='lr_02_accuracy')\n",
    "\n",
    "sns.lineplot(results.epoch,sigmoid_one_loss, ax=ax1, label='lr_01_loss')\n",
    "sns.lineplot(results.epoch, sigmoid_one_accuracy, ax=ax2, label='lr_01_accuracy')\n",
    "\n",
    "\n"
   ]
  },
  {
   "cell_type": "markdown",
   "metadata": {},
   "source": [
    "If we increase the learning rate to a very high number, we see that our model overshoots the minimum, and starts bouncing all around."
   ]
  },
  {
   "cell_type": "code",
   "execution_count": null,
   "metadata": {},
   "outputs": [],
   "source": [
    "from keras.optimizers import SGD\n",
    "\n",
    "model = Sequential()\n",
    "\n",
    "sgd = SGD(lr=9)\n",
    "model.add(Dense(12, activation='sigmoid', input_dim=64,))\n",
    "model.add(Dense(8 ,  activation='sigmoid' ))\n",
    "model.add(Dense(1 , activation = 'sigmoid' ))\n",
    "\n",
    "model.compile(optimizer=sgd ,\n",
    "              loss='binary_crossentropy'  ,\n",
    "              metrics=['accuracy'])\n",
    "\n",
    "# Assign the variable history to store the results, and set verbose=1 so we can see the output.\n",
    "results = model.fit(X_t, y_t, epochs=30, batch_size=10, verbose=1)\n",
    "\n",
    "relu_loss = results.history['loss']\n",
    "relu_accuracy = results.history['acc']\n",
    "\n",
    "fig, (ax1, ax2) = plt.subplots(1,2, figsize=(10,5))\n",
    "sns.lineplot(results.epoch, relu_loss, ax=ax1, label='loss')\n",
    "sns.lineplot(results.epoch, relu_accuracy, ax=ax2, label='accuracy')"
   ]
  },
  {
   "cell_type": "markdown",
   "metadata": {},
   "source": [
    "Let's get a bit more modern, and apply a relu activation function in our layers."
   ]
  },
  {
   "cell_type": "code",
   "execution_count": null,
   "metadata": {},
   "outputs": [],
   "source": [
    "model = Sequential()\n",
    "model.add(Dense(12, activation='relu', input_dim=64,))\n",
    "model.add(Dense(8 ,  activation='relu' ))\n",
    "model.add(Dense(1 , activation = 'sigmoid' ))\n",
    "\n",
    "model.compile(optimizer='SGD',\n",
    "              loss='binary_crossentropy',\n",
    "              metrics=['accuracy'])\n",
    "\n",
    "# We can tinker with verbose to show the output\n",
    "results = model.fit(X_t, y_t, epochs=50, batch_size= 32, verbose=0)"
   ]
  },
  {
   "cell_type": "code",
   "execution_count": null,
   "metadata": {},
   "outputs": [],
   "source": [
    "relu_loss = results.history['loss']\n",
    "relu_accuracy = results.history['acc']\n",
    "\n",
    "fig, (ax1, ax2) = plt.subplots(1,2, figsize=(10,5))\n",
    "sns.lineplot(results.epoch, relu_loss, ax=ax1, label='loss')\n",
    "sns.lineplot(results.epoch, relu_accuracy, ax=ax2, label='accuracy')"
   ]
  },
  {
   "cell_type": "markdown",
   "metadata": {},
   "source": [
    "Compared to our original sigmoid with 50 epochs and batch 32, the relu activation reaches a much higher accuracy"
   ]
  },
  {
   "cell_type": "markdown",
   "metadata": {},
   "source": [
    "Let's try batch size 1"
   ]
  },
  {
   "cell_type": "code",
   "execution_count": null,
   "metadata": {},
   "outputs": [],
   "source": [
    "model = Sequential()\n",
    "model.add(Dense(12, activation='relu', input_dim=64,))\n",
    "model.add(Dense(8 ,  activation='relu' ))\n",
    "model.add(Dense(1 , activation = 'sigmoid' ))\n",
    "\n",
    "model.compile(optimizer='SGD',\n",
    "              loss='binary_crossentropy',\n",
    "              metrics=['accuracy'])\n",
    "\n",
    "# We can tinker with verbose to show the output\n",
    "results = model.fit(X_t, y_t, epochs=10, batch_size= 1, verbose=1)"
   ]
  },
  {
   "cell_type": "code",
   "execution_count": null,
   "metadata": {},
   "outputs": [],
   "source": [
    "relu_loss = results.history['loss']\n",
    "relu_accuracy = results.history['acc']\n",
    "\n",
    "fig, (ax1, ax2) = plt.subplots(1,2, figsize=(10,5))\n",
    "sns.lineplot(results.epoch, relu_loss, ax=ax1, label='loss')\n",
    "sns.lineplot(results.epoch, relu_accuracy, ax=ax2, label='accuracy')"
   ]
  },
  {
   "cell_type": "markdown",
   "metadata": {},
   "source": [
    "We are reaching a high accuracy, but still looks like our model has not converged. If we increased our number of epochs, we would be looking at a long wait."
   ]
  },
  {
   "cell_type": "markdown",
   "metadata": {},
   "source": [
    "We have been implementing the vanilla version of gradient descent.  Remember, SGD updates the parameters uniformly across the board.  Let's try out an optimizer used more often these days."
   ]
  },
  {
   "cell_type": "code",
   "execution_count": null,
   "metadata": {},
   "outputs": [],
   "source": [
    "model = Sequential()\n",
    "model.add(Dense(12, activation='relu', input_dim=64,))\n",
    "model.add(Dense(8 ,  activation='relu' ))\n",
    "model.add(Dense(1 , activation = 'sigmoid' ))\n",
    "\n",
    "model.compile(optimizer='adam',\n",
    "              loss='binary_crossentropy',\n",
    "              metrics=['accuracy'])\n",
    "\n",
    "# We can tinker with verbose to show the output\n",
    "results = model.fit(X_t, y_t, epochs=50, batch_size= 32, verbose=0)\n",
    "\n",
    "relu_loss = results.history['loss']\n",
    "relu_accuracy = results.history['acc']\n",
    "\n",
    "fig, (ax1, ax2) = plt.subplots(1,2, figsize=(10,5))\n",
    "sns.lineplot(results.epoch, relu_loss, ax=ax1, label='loss')\n",
    "sns.lineplot(results.epoch, relu_accuracy, ax=ax2, label='accuracy')"
   ]
  },
  {
   "cell_type": "markdown",
   "metadata": {},
   "source": [
    "Now our accuracy is really improving, and it looks like our learning may be leveling out."
   ]
  },
  {
   "cell_type": "markdown",
   "metadata": {},
   "source": [
    "Since Adam and relu are relatively faster than SGD and sigmoid, we can add more epochs, and more layers without the training time getting unwieldy."
   ]
  },
  {
   "cell_type": "code",
   "execution_count": null,
   "metadata": {},
   "outputs": [],
   "source": [
    "model = Sequential()\n",
    "model.add(Dense(12, activation='relu', input_dim=64,))\n",
    "model.add(Dense(8 ,  activation='relu' ))\n",
    "model.add(Dense(4 ,  activation='relu' ))\n",
    "model.add(Dense(1 , activation = 'sigmoid' ))\n",
    "\n",
    "model.compile(optimizer='adam',\n",
    "              loss='binary_crossentropy',\n",
    "              metrics=['accuracy'])\n",
    "\n",
    "results = model.fit(X_t, y_t, epochs=100, batch_size= 32, verbose=0)\n",
    "\n",
    "adam_loss = results.history['loss']\n",
    "adam_accuracy = results.history['acc']\n",
    "\n",
    "fig, (ax1, ax2) = plt.subplots(1,2, figsize=(10,5))\n",
    "sns.lineplot(results.epoch, adam_loss, ax=ax1, label='loss')\n",
    "sns.lineplot(results.epoch, adam_accuracy, ax=ax2, label='accuracy')"
   ]
  },
  {
   "cell_type": "markdown",
   "metadata": {},
   "source": [
    "No it looks like we're getting somewhere.\n",
    "\n",
    "For comparison, look at how much more quickly Adam learns than SGD."
   ]
  },
  {
   "cell_type": "code",
   "execution_count": null,
   "metadata": {},
   "outputs": [],
   "source": [
    "model = Sequential()\n",
    "model.add(Dense(12, activation='relu', input_dim=64,))\n",
    "model.add(Dense(8 ,  activation='relu' ))\n",
    "model.add(Dense(4 ,  activation='relu' ))\n",
    "model.add(Dense(1 , activation = 'sigmoid' ))\n",
    "\n",
    "model.compile(optimizer='SGD',\n",
    "              loss='binary_crossentropy',\n",
    "              metrics=['accuracy'])\n",
    "\n",
    "results = model.fit(X_t, y_t, epochs=100, batch_size= 32, verbose=0)\n",
    "\n",
    "sgd_loss = results.history['loss']\n",
    "sgd_accuracy = results.history['acc']\n",
    "\n",
    "fig, (ax1, ax2) = plt.subplots(1,2, figsize=(10,5))\n",
    "sns.lineplot(results.epoch, adam_loss, ax=ax1, label='adam_loss')\n",
    "sns.lineplot(results.epoch, adam_accuracy, ax=ax2, label='adam_accuracy')\n",
    "\n",
    "sns.lineplot(results.epoch, sgd_loss, ax=ax1, label='sgd_loss')\n",
    "sns.lineplot(results.epoch, sgd_accuracy, ax=ax2, label='sgd_accuracy')"
   ]
  },
  {
   "cell_type": "markdown",
   "metadata": {},
   "source": [
    "We have been looking only at our training set. Let's add in our validation set to the picture."
   ]
  },
  {
   "cell_type": "code",
   "execution_count": null,
   "metadata": {},
   "outputs": [],
   "source": [
    "model = Sequential()\n",
    "model.add(Dense(12, activation='relu', input_dim=64,))\n",
    "model.add(Dense(8 ,  activation='relu' ))\n",
    "model.add(Dense(4 ,  activation='relu' ))\n",
    "model.add(Dense(1 , activation = 'sigmoid' ))\n",
    "\n",
    "model.compile(optimizer='adam',\n",
    "              loss='binary_crossentropy',\n",
    "              metrics=['accuracy'])\n",
    "\n",
    "results = model.fit(X_t, y_t, epochs=100, batch_size= 32, verbose=0, validation_data=(X_val, y_val))\n",
    "\n",
    "train_loss = results.history['loss']\n",
    "train_acc = results.history['acc']\n",
    "val_loss = results.history['val_loss']\n",
    "val_acc = results.history['val_acc']\n",
    "\n",
    "fig, (ax1, ax2) = plt.subplots(1,2, figsize=(10,5))\n",
    "sns.lineplot(results.epoch, train_loss, ax=ax1, label='train_loss')\n",
    "sns.lineplot(results.epoch, train_acc, ax=ax2, label='train_accuracy')\n",
    "\n",
    "sns.lineplot(results.epoch, val_loss, ax=ax1, label='val_loss')\n",
    "sns.lineplot(results.epoch, val_acc, ax=ax2, label='val_accuracy')"
   ]
  },
  {
   "cell_type": "markdown",
   "metadata": {},
   "source": [
    "Consider that we still see our loss decreasing and our accuracy increasing.  We try to add more complexity to our model by adding more layers."
   ]
  },
  {
   "cell_type": "code",
   "execution_count": null,
   "metadata": {},
   "outputs": [],
   "source": [
    "np.random.seed(42)\n",
    "\n",
    "model = Sequential()\n",
    "model.add(Dense(30, activation='relu', input_dim=64,))\n",
    "model.add(Dense(20 ,  activation='relu' ))\n",
    "\n",
    "model.add(Dense(12 ,  activation='relu' ))\n",
    "model.add(Dense(12 ,  activation='relu' ))\n",
    "model.add(Dense(12 ,  activation='relu' ))\n",
    "model.add(Dense(8 ,  activation='relu' ))\n",
    "model.add(Dense(4 ,  activation='relu' ))\n",
    "model.add(Dense(1 , activation = 'sigmoid' ))\n",
    "\n",
    "model.compile(optimizer='adam',\n",
    "              loss='binary_crossentropy',\n",
    "              metrics=['accuracy'])\n",
    "\n",
    "results = model.fit(X_t, y_t, epochs=100, batch_size= 32, verbose=0, validation_data=(X_val, y_val))\n",
    "\n",
    "train_loss = results.history['loss']\n",
    "train_acc = results.history['acc']\n",
    "val_loss = results.history['val_loss']\n",
    "val_acc = results.history['val_acc']\n",
    "\n",
    "\n",
    "fig, (ax1, ax2) = plt.subplots(1,2, figsize=(10,5))\n",
    "sns.lineplot(results.epoch, train_loss, ax=ax1, label='train_loss')\n",
    "sns.lineplot(results.epoch, train_acc, ax=ax2, label='train_accuracy')\n",
    "\n",
    "sns.lineplot(results.epoch, val_loss, ax=ax1, label='val_loss')\n",
    "sns.lineplot(results.epoch, val_acc, ax=ax2, label='val_accuracy')"
   ]
  },
  {
   "cell_type": "code",
   "execution_count": null,
   "metadata": {},
   "outputs": [],
   "source": [
    "np.random.seed(42)\n",
    "\n",
    "model = Sequential()\n",
    "model.add(Dense(300, activation='relu', input_dim=64,))\n",
    "model.add(Dense(200 ,  activation='relu' ))\n",
    "\n",
    "model.add(Dense(80 ,  activation='relu' ))\n",
    "model.add(Dense(4 ,  activation='relu' ))\n",
    "model.add(Dense(1 , activation = 'sigmoid' ))\n",
    "\n",
    "model.compile(optimizer='adam',\n",
    "              loss='binary_crossentropy',\n",
    "              metrics=['accuracy'])\n",
    "\n",
    "results = model.fit(X_t, y_t, epochs=100, batch_size= 32, verbose=0, validation_data=(X_val, y_val))\n",
    "\n",
    "train_loss = results.history['loss']\n",
    "train_acc = results.history['acc']\n",
    "val_loss = results.history['val_loss']\n",
    "val_acc = results.history['val_acc']\n",
    "\n",
    "\n",
    "fig, (ax1, ax2) = plt.subplots(1,2, figsize=(10,5))\n",
    "sns.lineplot(results.epoch, train_loss, ax=ax1, label='train_loss')\n",
    "sns.lineplot(results.epoch, train_acc, ax=ax2, label='train_accuracy')\n",
    "\n",
    "sns.lineplot(results.epoch, val_loss, ax=ax1, label='val_loss')\n",
    "sns.lineplot(results.epoch, val_acc, ax=ax2, label='val_accuracy')"
   ]
  },
  {
   "cell_type": "markdown",
   "metadata": {},
   "source": [
    "In both models above, we see that our loss has begun to increase slightly. \n",
    "\n",
    "This is a sign that our model is overfit.  Just like in our previous models, after a certain amount of learning, the loss on the validation set starts increasing."
   ]
  },
  {
   "cell_type": "markdown",
   "metadata": {},
   "source": [
    "# Regularization"
   ]
  },
  {
   "cell_type": "markdown",
   "metadata": {},
   "source": [
    "\n",
    "Does regularization make sense in the context of neural networks? <br/>\n",
    "\n",
    "Yes! We still have all of the salient ingredients: a loss function, overfitting vs. underfitting, and coefficients (weights) that could get too large.\n",
    "\n",
    "But there are now a few different flavors besides L1 and L2 regularization. (Note that L1 regularization is not common in the context of  neural networks.)"
   ]
  },
  {
   "cell_type": "code",
   "execution_count": null,
   "metadata": {},
   "outputs": [],
   "source": [
    "from keras import regularizers"
   ]
  },
  {
   "cell_type": "code",
   "execution_count": null,
   "metadata": {},
   "outputs": [],
   "source": [
    "np.random.seed(42)\n",
    "\n",
    "model = Sequential()\n",
    "model.add(Dense(30, activation='relu', input_dim=64,))\n",
    "model.add(Dense(20 ,  activation='relu', kernel_regularizer=regularizers.l2(0.01)))\n",
    "\n",
    "model.add(Dense(12 ,  activation='relu'))\n",
    "model.add(Dense(12 ,  activation='relu',  ))\n",
    "model.add(Dense(12 ,  activation='relu', ))\n",
    "model.add(Dense(8 ,  activation='relu' ,))\n",
    "model.add(Dense(4 ,  activation='relu'))\n",
    "model.add(Dense(1 , activation = 'sigmoid' ))\n",
    "\n",
    "model.compile(optimizer='adam',\n",
    "              loss='binary_crossentropy',\n",
    "              metrics=['accuracy'])\n",
    "\n",
    "results = model.fit(X_t, y_t, epochs=100, batch_size= 32, verbose=0, validation_data=(X_val, y_val))\n",
    "\n",
    "train_loss = results.history['loss']\n",
    "train_acc = results.history['acc']\n",
    "val_loss = results.history['val_loss']\n",
    "val_acc = results.history['val_acc']\n",
    "\n",
    "\n",
    "fig, (ax1, ax2) = plt.subplots(1,2, figsize=(10,5))\n",
    "sns.lineplot(results.epoch, train_loss, ax=ax1, label='train_loss')\n",
    "sns.lineplot(results.epoch, train_acc, ax=ax2, label='train_accuracy')\n",
    "\n",
    "sns.lineplot(results.epoch, val_loss, ax=ax1, label='val_loss')\n",
    "sns.lineplot(results.epoch, val_acc, ax=ax2, label='val_accuracy')"
   ]
  },
  {
   "cell_type": "code",
   "execution_count": null,
   "metadata": {},
   "outputs": [],
   "source": [
    "np.random.seed(42)\n",
    "\n",
    "model = Sequential()\n",
    "model.add(Dense(30, activation='relu', input_dim=64,))\n",
    "model.add(Dense(20 ,  activation='relu', kernel_regularizer=regularizers.l2(0.01)))\n",
    "\n",
    "model.add(Dense(12 ,  activation='relu', kernel_regularizer=regularizers.l2(0.01)))\n",
    "model.add(Dense(12 ,  activation='relu', kernel_regularizer=regularizers.l2(0.01) ))\n",
    "model.add(Dense(12 ,  activation='relu', kernel_regularizer=regularizers.l2(0.01)))\n",
    "model.add(Dense(8 ,  activation='relu' , kernel_regularizer=regularizers.l2(0.01)))\n",
    "model.add(Dense(4 ,  activation='relu', kernel_regularizer=regularizers.l2(0.01) ))\n",
    "model.add(Dense(1 , activation = 'sigmoid' ))\n",
    "\n",
    "model.compile(optimizer='adam',\n",
    "              loss='binary_crossentropy',\n",
    "              metrics=['accuracy'])\n",
    "\n",
    "results = model.fit(X_t, y_t, epochs=100, batch_size= 32, verbose=0, validation_data=(X_val, y_val))\n",
    "\n",
    "train_loss = results.history['loss']\n",
    "train_acc = results.history['acc']\n",
    "val_loss = results.history['val_loss']\n",
    "val_acc = results.history['val_acc']\n",
    "\n",
    "\n",
    "fig, (ax1, ax2) = plt.subplots(1,2, figsize=(10,5))\n",
    "sns.lineplot(results.epoch, train_loss, ax=ax1, label='train_loss')\n",
    "sns.lineplot(results.epoch, train_acc, ax=ax2, label='train_accuracy')\n",
    "\n",
    "sns.lineplot(results.epoch, val_loss, ax=ax1, label='val_loss')\n",
    "sns.lineplot(results.epoch, val_acc, ax=ax2, label='val_accuracy')"
   ]
  },
  {
   "cell_type": "markdown",
   "metadata": {},
   "source": [
    "# Dropout\n",
    "\n",
    "We can specify a dropout layer in keras, which randomly shuts off different nodes during training.\n",
    "\n",
    "![drop_out](img/drop_out.png)"
   ]
  },
  {
   "cell_type": "code",
   "execution_count": null,
   "metadata": {},
   "outputs": [],
   "source": [
    "from keras.layers import Dropout"
   ]
  },
  {
   "cell_type": "code",
   "execution_count": null,
   "metadata": {},
   "outputs": [],
   "source": [
    "np.random.seed(42)\n",
    "\n",
    "model = Sequential()\n",
    "model.add(Dense(300, activation='relu', input_dim=64,))\n",
    "model.add(Dropout(.5))\n",
    "model.add(Dense(200 ,  activation='relu' ))\n",
    "model.add(Dropout(.5))\n",
    "model.add(Dense(80 ,  activation='relu' ))\n",
    "model.add(Dropout(.1))\n",
    "model.add(Dense(4 ,  activation='relu' ))\n",
    "model.add(Dense(1 , activation = 'sigmoid' ))\n",
    "\n",
    "model.compile(optimizer='adam',\n",
    "              loss='binary_crossentropy',\n",
    "              metrics=['accuracy'])\n",
    "\n",
    "results = model.fit(X_t, y_t, epochs=100, batch_size= 32, verbose=0, validation_data=(X_val, y_val))\n",
    "\n",
    "train_loss = results.history['loss']\n",
    "train_acc = results.history['acc']\n",
    "val_loss = results.history['val_loss']\n",
    "val_acc = results.history['val_acc']\n",
    "\n",
    "\n",
    "fig, (ax1, ax2) = plt.subplots(1,2, figsize=(10,5))\n",
    "sns.lineplot(results.epoch, train_loss, ax=ax1, label='train_loss')\n",
    "sns.lineplot(results.epoch, train_acc, ax=ax2, label='train_accuracy')\n",
    "\n",
    "sns.lineplot(results.epoch, val_loss, ax=ax1, label='val_loss')\n",
    "sns.lineplot(results.epoch, val_acc, ax=ax2, label='val_accuracy')"
   ]
  },
  {
   "cell_type": "markdown",
   "metadata": {},
   "source": [
    "# Early Stopping"
   ]
  },
  {
   "cell_type": "markdown",
   "metadata": {},
   "source": [
    "We can also tell our neural network to stop once it stops realizing any gain."
   ]
  },
  {
   "cell_type": "code",
   "execution_count": null,
   "metadata": {},
   "outputs": [],
   "source": [
    "from keras.callbacks import EarlyStopping\n"
   ]
  },
  {
   "cell_type": "markdown",
   "metadata": {},
   "source": [
    "This is the model with no early stopping."
   ]
  },
  {
   "cell_type": "code",
   "execution_count": null,
   "metadata": {},
   "outputs": [],
   "source": [
    "np.random.seed(42)\n",
    "\n",
    "model = Sequential()\n",
    "model.add(Dense(30, activation='relu', input_dim=64,))\n",
    "model.add(Dense(20 ,  activation='relu' ))\n",
    "\n",
    "model.add(Dense(12 ,  activation='relu' ))\n",
    "model.add(Dense(12 ,  activation='relu' ))\n",
    "model.add(Dense(12 ,  activation='relu' ))\n",
    "model.add(Dense(8 ,  activation='relu' ))\n",
    "model.add(Dense(4 ,  activation='relu' ))\n",
    "model.add(Dense(1 , activation = 'sigmoid' ))\n",
    "\n",
    "model.compile(optimizer='adam',\n",
    "              loss='binary_crossentropy',\n",
    "              metrics=['accuracy'])\n",
    "\n",
    "results = model.fit(X_t, y_t, epochs=100, batch_size= 32, verbose=0, validation_data=(X_val, y_val))\n",
    "\n",
    "train_loss = results.history['loss']\n",
    "train_acc = results.history['acc']\n",
    "val_loss = results.history['val_loss']\n",
    "val_acc = results.history['val_acc']\n",
    "\n",
    "\n",
    "fig, (ax1, ax2) = plt.subplots(1,2, figsize=(10,5))\n",
    "sns.lineplot(results.epoch, train_loss, ax=ax1, label='train_loss')\n",
    "sns.lineplot(results.epoch, train_acc, ax=ax2, label='train_accuracy')\n",
    "\n",
    "sns.lineplot(results.epoch, val_loss, ax=ax1, label='val_loss')\n",
    "sns.lineplot(results.epoch, val_acc, ax=ax2, label='val_accuracy')"
   ]
  },
  {
   "cell_type": "markdown",
   "metadata": {},
   "source": [
    "Here we tell it to stop once the a very small positive change in the validation loss occurs."
   ]
  },
  {
   "cell_type": "code",
   "execution_count": null,
   "metadata": {},
   "outputs": [],
   "source": [
    "np.random.seed(42)\n",
    "\n",
    "model = Sequential()\n",
    "model.add(Dense(30, activation='relu', input_dim=64,))\n",
    "model.add(Dense(20 ,  activation='relu' ))\n",
    "\n",
    "model.add(Dense(12 ,  activation='relu' ))\n",
    "model.add(Dense(12 ,  activation='relu' ))\n",
    "model.add(Dense(12 ,  activation='relu' ))\n",
    "model.add(Dense(8 ,  activation='relu' ))\n",
    "model.add(Dense(4 ,  activation='relu' ))\n",
    "model.add(Dense(1 , activation = 'sigmoid' ))\n",
    "\n",
    "model.compile(optimizer='adam',\n",
    "              loss='binary_crossentropy',\n",
    "              metrics=['accuracy'])\n",
    "\n",
    "early_stop = EarlyStopping(monitor='val_loss', min_delta=1e-8, patience=0, verbose=1,\n",
    "                           mode='min')\n",
    "results = model.fit(X_t, y_t, epochs=100, batch_size= 32, verbose=0, validation_data=(X_val, y_val),\n",
    "                   callbacks=[early_stop])\n",
    "\n",
    "\n",
    "\n",
    "train_loss = results.history['loss']\n",
    "train_acc = results.history['acc']\n",
    "val_loss = results.history['val_loss']\n",
    "val_acc = results.history['val_acc']\n",
    "\n",
    "\n",
    "fig, (ax1, ax2) = plt.subplots(1,2, figsize=(10,5))\n",
    "sns.lineplot(results.epoch, train_loss, ax=ax1, label='train_loss')\n",
    "sns.lineplot(results.epoch, train_acc, ax=ax2, label='train_accuracy')\n",
    "\n",
    "sns.lineplot(results.epoch, val_loss, ax=ax1, label='val_loss')\n",
    "sns.lineplot(results.epoch, val_acc, ax=ax2, label='val_accuracy')"
   ]
  },
  {
   "cell_type": "markdown",
   "metadata": {},
   "source": [
    "That stopped too early.  We can specify the number of epochs that it doesn't see decrease in the loss with the `patience` parameter. "
   ]
  },
  {
   "cell_type": "code",
   "execution_count": null,
   "metadata": {},
   "outputs": [],
   "source": [
    "np.random.seed(42)\n",
    "\n",
    "model = Sequential()\n",
    "model.add(Dense(30, activation='relu', input_dim=64,))\n",
    "model.add(Dense(20 ,  activation='relu' ))\n",
    "\n",
    "model.add(Dense(12 ,  activation='relu' ))\n",
    "model.add(Dense(12 ,  activation='relu' ))\n",
    "model.add(Dense(12 ,  activation='relu' ))\n",
    "model.add(Dense(8 ,  activation='relu' ))\n",
    "model.add(Dense(4 ,  activation='relu' ))\n",
    "model.add(Dense(1 , activation = 'sigmoid' ))\n",
    "\n",
    "model.compile(optimizer='adam',\n",
    "              loss='binary_crossentropy',\n",
    "              metrics=['accuracy'])\n",
    "\n",
    "early_stop = EarlyStopping(monitor='val_loss', min_delta=1e-8, patience=15, verbose=1,\n",
    "                           mode='min')\n",
    "results = model.fit(X_t, y_t, epochs=100, batch_size= 32, verbose=0, validation_data=(X_val, y_val),\n",
    "                   callbacks=[early_stop])\n",
    "\n",
    "\n",
    "\n",
    "train_loss = results.history['loss']\n",
    "train_acc = results.history['acc']\n",
    "val_loss = results.history['val_loss']\n",
    "val_acc = results.history['val_acc']\n",
    "\n",
    "\n",
    "fig, (ax1, ax2) = plt.subplots(1,2, figsize=(10,5))\n",
    "sns.lineplot(results.epoch, train_loss, ax=ax1, label='train_loss')\n",
    "sns.lineplot(results.epoch, train_acc, ax=ax2, label='train_accuracy')\n",
    "\n",
    "sns.lineplot(results.epoch, val_loss, ax=ax1, label='val_loss')\n",
    "sns.lineplot(results.epoch, val_acc, ax=ax2, label='val_accuracy')"
   ]
  },
  {
   "cell_type": "markdown",
   "metadata": {},
   "source": [
    "# Multiclass Classification and Softmax"
   ]
  },
  {
   "cell_type": "markdown",
   "metadata": {},
   "source": [
    "Now let's return to the original problem: predicting 0 through 9"
   ]
  },
  {
   "cell_type": "code",
   "execution_count": null,
   "metadata": {},
   "outputs": [],
   "source": [
    "from sklearn.datasets import load_digits\n",
    "from sklearn.model_selection import train_test_split\n",
    "digits = load_digits()\n",
    "X = digits.data\n",
    "y = digits.target"
   ]
  },
  {
   "cell_type": "code",
   "execution_count": null,
   "metadata": {},
   "outputs": [],
   "source": [
    "from sklearn.model_selection import train_test_split\n",
    "\n",
    "X_train, X_test, y_train, y_test = train_test_split(X, y, random_state=42, test_size=.2)\n",
    "X_t, X_val, y_t, y_val = train_test_split(X_train, y_train, random_state=42, test_size=.2)\n",
    "X_t, X_val, X_test = X_t/16, X_val/16, X_test/16\n"
   ]
  },
  {
   "cell_type": "code",
   "execution_count": null,
   "metadata": {},
   "outputs": [],
   "source": [
    "For a multiclass output, our neural net expects our target to be in a certain form."
   ]
  },
  {
   "cell_type": "code",
   "execution_count": null,
   "metadata": {},
   "outputs": [],
   "source": [
    "from sklearn.preprocessing import OneHotEncoder\n",
    "\n",
    "ohe = OneHotEncoder(sparse=False)\n",
    "y_t = ohe.fit_transform(y_t.reshape(-1,1))\n",
    "y_val = ohe.transform(y_val.reshape(-1,1))\n",
    "y_test = ohe.transform(y_test.reshape(-1,1))"
   ]
  },
  {
   "cell_type": "markdown",
   "metadata": {},
   "source": [
    "What is different in the code below from the code above?"
   ]
  },
  {
   "cell_type": "code",
   "execution_count": null,
   "metadata": {},
   "outputs": [],
   "source": [
    "one_random_student(mccalister)"
   ]
  },
  {
   "cell_type": "code",
   "execution_count": null,
   "metadata": {},
   "outputs": [],
   "source": [
    "model = Sequential()\n",
    "model.add(Dense(12, activation='relu', input_dim=64,))\n",
    "model.add(Dense(8 ,  activation='relu' ))\n",
    "model.add(Dense(10 , activation = 'softmax' ))\n",
    "\n",
    "model.compile(optimizer='adam',\n",
    "              loss='categorical_crossentropy'  ,\n",
    "              metrics=['accuracy'])\n",
    "results = model.fit(X_t, y_t, epochs=50, batch_size= 10, validation_data=(X_val, y_val))"
   ]
  },
  {
   "cell_type": "markdown",
   "metadata": {},
   "source": [
    "$$\\large \\text{Softmax}(x_{i}) = \\frac{\\exp(x_i)}{\\sum_j \\exp(x_j)}$$\n",
    "\n",
    "The sofmax function outputs a number between 0 and 1 for each of our classes.  All of the probabilities of the classes sum up to 1.\n",
    "\n",
    "The number of nodes in our output layer equals the number of categories in our dataset."
   ]
  },
  {
   "cell_type": "markdown",
   "metadata": {},
   "source": [
    "We also need a new loss function categorical crossentropy, which calculates separate loss for each label and sums the results."
   ]
  },
  {
   "cell_type": "code",
   "execution_count": null,
   "metadata": {},
   "outputs": [],
   "source": [
    "history = results.history\n",
    "training_loss = history['loss']\n",
    "val_loss = history['val_loss']\n",
    "training_accuracy = history['acc']\n",
    "val_accuracy = history['val_acc']\n"
   ]
  },
  {
   "cell_type": "code",
   "execution_count": null,
   "metadata": {},
   "outputs": [],
   "source": [
    "import matplotlib.pyplot as plt\n",
    "import seaborn as sns\n",
    "fig, (ax1,ax2) = plt.subplots(1,2,figsize=(15,5))\n",
    "\n",
    "\n",
    "sns.lineplot(list(range(len(training_loss))), training_loss, c='r', label='training', ax=ax1)\n",
    "sns.lineplot(list(range(len(val_loss))), val_loss, c='b', label='validation', ax=ax1)\n",
    "sns.lineplot(list(range(len(training_loss))), training_accuracy, c='r', label='training',ax=ax2)\n",
    "sns.lineplot(list(range(len(val_loss))), val_accuracy, c='b', label='validation',ax=ax2)\n",
    "ax1.legend()"
   ]
  },
  {
   "cell_type": "code",
   "execution_count": null,
   "metadata": {},
   "outputs": [],
   "source": [
    "y_hat_test = model.predict_classes(X_test)"
   ]
  },
  {
   "cell_type": "code",
   "execution_count": null,
   "metadata": {},
   "outputs": [],
   "source": [
    "from sklearn.metrics import accuracy_score, confusion_matrix\n",
    "y_test = ohe.inverse_transform(y_test)\n",
    "confusion_matrix(y_test, y_hat_test)"
   ]
  },
  {
   "cell_type": "markdown",
   "metadata": {},
   "source": [
    "Wow, look at that performance!  \n",
    "\n",
    "That is great, but remember, we were dealing with simple black and white images.  With color, our basic neural net will have less success.\n",
    "\n",
    "We will explore more advanced tools in the coming days.\n"
   ]
  }
 ],
 "metadata": {
  "celltoolbar": "Slideshow",
  "colab": {
   "collapsed_sections": [],
   "name": "intro-to-keras.ipynb",
   "provenance": []
  },
  "kernelspec": {
   "display_name": "Python 3",
   "language": "python",
   "name": "python3"
  },
  "language_info": {
   "codemirror_mode": {
    "name": "ipython",
    "version": 3
   },
   "file_extension": ".py",
   "mimetype": "text/x-python",
   "name": "python",
   "nbconvert_exporter": "python",
   "pygments_lexer": "ipython3",
   "version": "3.7.3"
  }
 },
 "nbformat": 4,
 "nbformat_minor": 4
}
